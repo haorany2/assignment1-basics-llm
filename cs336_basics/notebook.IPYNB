{
 "cells": [
  {
   "cell_type": "markdown",
   "metadata": {},
   "source": []
  },
  {
   "cell_type": "code",
   "execution_count": 1,
   "metadata": {},
   "outputs": [],
   "source": [
    "from token_base import process_chunk, get_pretoken_stats, \\\n",
    "    iter_corpus, run_parallel_tokenization, merge, get_contigent_stats\n",
    "\n",
    "\n"
   ]
  },
  {
   "cell_type": "code",
   "execution_count": 2,
   "metadata": {},
   "outputs": [
    {
     "data": {
      "text/plain": [
       "defaultdict(int,\n",
       "            {(b'u',): 1,\n",
       "             (b' ', b'd', b'o', b'n'): 1,\n",
       "             (b\"'\", b't'): 1,\n",
       "             (b' ', b'h', b'a', b'v', b'e'): 1,\n",
       "             (b'.',): 1})"
      ]
     },
     "execution_count": 2,
     "metadata": {},
     "output_type": "execute_result"
    }
   ],
   "source": [
    "text = \"\"\"\n",
    "dfs\n",
    "<|endoftext|>\n",
    "dfd\n",
    "dfs\n",
    "<|endoftext|>\n",
    "\"\"\"\n",
    "filename = '../data/TinyStoriesV2-GPT4-valid.txt'\n",
    "filename = '../data/text.txt'\n",
    "# corpus_iter = iter_corpus(text, \"<|endoftext|>\")\n",
    "# for i in corpus_iter:\n",
    "#     print(i)\n",
    "#get_pretoken_stats(corpus_iter)\n",
    "\n",
    "# #process_chunk((filename, 0, 100))\n",
    "words_freq = run_parallel_tokenization( filename, num_processes=1 )\n",
    "words_freq\n",
    "# print(words_freq)\n",
    "# contigent_bytes_freq, pair_position = get_contigent_stats(words_freq)\n",
    "# print(\"----------contigent_bytes_freq\")\n",
    "# print(contigent_bytes_freq)\n",
    "\n",
    "# print(\"----------pair_position_final\")\n",
    "# print(pair_position)\n"
   ]
  },
  {
   "cell_type": "markdown",
   "metadata": {},
   "source": [
    "defaultdict(<class 'int'>, {(b'u',): 1, (b' ', b'd', b'o', b'n'): 1, (b\"'\", b't'): 1, (b' ', b'h', b'a', b'v', b'e'): 1, (b'.',): 1})\n",
    "----------contigent_bytes_freq\n",
    "defaultdict(<class 'int'>, {(b' ', b'd'): 1, (b'd', b'o'): 1, (b'o', b'n'): 1, (b\"'\", b't'): 1, (b' ', b'h'): 1, (b'h', b'a'): 1, (b'a', b'v'): 1, (b'v', b'e'): 1})\n",
    "----------pair_position_final\n",
    "{(b' ', b'd'): defaultdict(<class 'list'>, {(b' ', b'd', b'o', b'n'): [(0, 1)]}), \n",
    "(b'd', b'o'): defaultdict(<class 'list'>, {(b' ', b'd', b'o', b'n'): [(1, 2)]}), \n",
    "(b'o', b'n'): defaultdict(<class 'list'>, {(b' ', b'd', b'o', b'n'): [(2, 3)]}), \n",
    "(b\"'\", b't'): defaultdict(<class 'list'>, {(b\"'\", b't'): [(0, 1)]}), \n",
    "(b' ', b'h'): defaultdict(<class 'list'>, {(b' ', b'h', b'a', b'v', b'e'): [(0, 1)]}), \n",
    "(b'h', b'a'): defaultdict(<class 'list'>, {(b' ', b'h', b'a', b'v', b'e'): [(1, 2)]}), \n",
    "(b'a', b'v'): defaultdict(<class 'list'>, {(b' ', b'h', b'a', b'v', b'e'): [(2, 3)]}), \n",
    "(b'v', b'e'): defaultdict(<class 'list'>, {(b' ', b'h', b'a', b'v', b'e'): [(3, 4)]})}\n",
    "\n",
    "\n"
   ]
  },
  {
   "cell_type": "code",
   "execution_count": 3,
   "metadata": {},
   "outputs": [
    {
     "ename": "NameError",
     "evalue": "name 'contigent_bytes_freq' is not defined",
     "output_type": "error",
     "traceback": [
      "\u001b[0;31m---------------------------------------------------------------------------\u001b[0m",
      "\u001b[0;31mNameError\u001b[0m                                 Traceback (most recent call last)",
      "Cell \u001b[0;32mIn[3], line 1\u001b[0m\n\u001b[0;32m----> 1\u001b[0m merge(words_freq, (\u001b[38;5;124mb\u001b[39m\u001b[38;5;124m'\u001b[39m\u001b[38;5;124md\u001b[39m\u001b[38;5;124m'\u001b[39m, \u001b[38;5;124mb\u001b[39m\u001b[38;5;124m'\u001b[39m\u001b[38;5;124mo\u001b[39m\u001b[38;5;124m'\u001b[39m), \u001b[43mcontigent_bytes_freq\u001b[49m, pair_position)\n",
      "\u001b[0;31mNameError\u001b[0m: name 'contigent_bytes_freq' is not defined"
     ]
    }
   ],
   "source": [
    "\n",
    " merge(words_freq, (b'd', b'o'), contigent_bytes_freq, pair_position)\n"
   ]
  },
  {
   "cell_type": "code",
   "execution_count": 4,
   "metadata": {},
   "outputs": [
    {
     "name": "stdout",
     "output_type": "stream",
     "text": [
      "__init__.py   notebook.IPYNB              token_base.py       token_regrex.py\n",
      "\u001b[0m\u001b[01;34m__pycache__\u001b[0m/  pretokenization_example.py  token_model.pickle\n"
     ]
    }
   ],
   "source": [
    "ls"
   ]
  },
  {
   "cell_type": "code",
   "execution_count": 10,
   "metadata": {},
   "outputs": [],
   "source": [
    "from  token_regrex import RegexTokenizer\n",
    "filename = '../data/TinyStoriesV2-GPT4-valid.txt'\n",
    "#filename = '../data/text.txt'\n",
    "model_dir = \"../model/token_model.pickle\"\n",
    "rt = RegexTokenizer()\n",
    "#print(list(rt.special_tokens.keys())[0])\n",
    "\n",
    "rt.train( filename, 258, num_processes=None, verbose=True, special_tokens={'<|endoftext|>': 100257})\n",
    "rt.save(model_dir)\n"
   ]
  },
  {
   "cell_type": "code",
   "execution_count": 5,
   "metadata": {},
   "outputs": [
    {
     "data": {
      "text/plain": [
       "{}"
      ]
     },
     "execution_count": 5,
     "metadata": {},
     "output_type": "execute_result"
    }
   ],
   "source": [
    "rt.merges\n",
    "rt.vocab"
   ]
  },
  {
   "cell_type": "code",
   "execution_count": 1,
   "metadata": {},
   "outputs": [],
   "source": [
    "import token_base\n",
    "import token_regrex"
   ]
  },
  {
   "cell_type": "code",
   "execution_count": null,
   "metadata": {},
   "outputs": [],
   "source": []
  }
 ],
 "metadata": {
  "kernelspec": {
   "display_name": "base",
   "language": "python",
   "name": "python3"
  },
  "language_info": {
   "codemirror_mode": {
    "name": "ipython",
    "version": 3
   },
   "file_extension": ".py",
   "mimetype": "text/x-python",
   "name": "python",
   "nbconvert_exporter": "python",
   "pygments_lexer": "ipython3",
   "version": "3.12.9"
  }
 },
 "nbformat": 4,
 "nbformat_minor": 2
}
